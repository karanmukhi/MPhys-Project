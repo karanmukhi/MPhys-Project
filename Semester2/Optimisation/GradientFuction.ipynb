{
 "cells": [
  {
   "cell_type": "code",
   "execution_count": 36,
   "metadata": {},
   "outputs": [],
   "source": [
    "import numpy as np\n",
    "import pandas as pd\n",
    "import time\n",
    "from sklearn.svm import SVC,LinearSVC\n",
    "from sklearn.multiclass import OneVsRestClassifier\n",
    "import sklearn.metrics\n",
    "\n",
    "def read(readdata):\n",
    "    data = np.array(readdata);\n",
    "    data = np.delete(data, 0, 0)\n",
    "    data = np.swapaxes(data,0,1)\n",
    "    for i in range(0, np.shape(data)[0]):\n",
    "        data[i,:] = data[i,:] - np.min(data[i,:])\n",
    "        data[i,:] = (data[i,:]/np.ndarray.max(data[i,:]))*2 - 1\n",
    "    # Need to seperate the classification dimension:\n",
    "    classIndex = np.shape(data)[0] - 1\n",
    "    classification = data[classIndex]\n",
    "    data = np.delete(data, classIndex, axis=0)\n",
    "    data = data.astype(float)\n",
    "    d = np.shape(data)[0]\n",
    "    nPoints = np.shape(data)[1]\n",
    "    return data,classification,d,nPoints\n",
    "\n",
    "readdata = pd.read_csv(\"/Users/karanmukhi/Desktop/TheGrandTour/Datasets/wineData.txt\", sep=\",\", header=None);\n",
    "(data, classification, d, nPoints) = read(readdata)\n",
    "labels = np.array([-1,0,1])\n"
   ]
  },
  {
   "cell_type": "code",
   "execution_count": 2,
   "metadata": {},
   "outputs": [],
   "source": [
    "#VARIABLES\n",
    "stepSize = 0.000000000001\n",
    "nSteps = 100\n",
    "\n",
    "def getAlpha(d):\n",
    "    \"\"\"\n",
    "    NEEDS IMPLEMENTATION\n",
    "    Should produce 1xd(d-1)/2 array of position in grand tour.\n",
    "\n",
    "    \"\"\"\n",
    "    p = d*(d-1)/2     \n",
    "    primeList = []\n",
    "    count = 1\n",
    "    while len(primeList) < p:\n",
    "        count += 1\n",
    "        primeBool = False\n",
    "        for i in range(2, count - 1):\n",
    "            if count % i == 0:\n",
    "                primeBool = True\n",
    "        if primeBool == False:\n",
    "            irrational = (np.sqrt(count)%1)\n",
    "            primeList.append(irrational)\n",
    "            \n",
    "    primeList = np.asarray(primeList)\n",
    "    primeList = primeList.dot(stepSize)\n",
    "    \"\"\"\n",
    "    Irrational number generation using exponentials, not being used\n",
    "    p = int(d*(d-1)/2)\n",
    "    alpha = np.zeros(p) #alpha(t) parameters defining grand tour in G2,d\n",
    "\n",
    "    for i in range(0,p):\n",
    "        alpha[i] = (np.exp(i) % 1) * 2 * np.pi\n",
    "        \n",
    "    alpha = alpha.dot(0.001)\n",
    "    \"\"\"\n",
    "    \n",
    "    return primeList\n",
    "\n",
    "\n",
    "def getAngles(alpha,d):\n",
    "    \"\"\"\"\"\n",
    "    Inputs: \n",
    "    alpha = 1xd(d-1)/2 array defining position on grand tour\n",
    "    d = dimensions of data\n",
    "    Outputs a dxd array of angles required for the transformation\n",
    "    \"\"\"\n",
    "    theta = np.zeros((d,d));\n",
    "    i = 0;\n",
    "    k = 0;\n",
    "    \n",
    "    while i < d-1:\n",
    "        j = i + 1;\n",
    "        \n",
    "        while j < d:\n",
    "            theta[i][j] = alpha[k];\n",
    "            j += 1;\n",
    "            k += 1;\n",
    "    \n",
    "        i+= 1;\n",
    "        \n",
    "    return theta;\n",
    "\n",
    "\n",
    "def RotationMatrix(i, j, d, theta):\n",
    "    \"\"\"\n",
    "    Inputs:\n",
    "    i = first indicie of rotating plane\n",
    "    j = second indicie of rotating plane\n",
    "    d = dimensions of data\n",
    "    theta = dxd array of angle of rotation of rotating plane\n",
    "\n",
    "    Outputs a rotating matrix to rotate plane of ixj plane by theta_ij\n",
    "    \"\"\"\n",
    "    R = np.identity(d)\n",
    "    R[i,i] = np.cos(theta)\n",
    "    R[i,j] = -1*np.sin(theta)\n",
    "    R[j,i] = np.sin(theta)\n",
    "    R[j,j] = np.cos(theta)\n",
    "    return R\n",
    "\n",
    "\n",
    "def BetaFn(d, theta):\n",
    "    \"\"\"\n",
    "    Inputs:\n",
    "    d = dimensions of data\n",
    "    theta = dxd array of angle of rotation ixj plane\n",
    "\n",
    "    Outputs the full matrix transformation for all rotations\n",
    "    \"\"\"\n",
    "    b = RotationMatrix(1, 2, d, theta[1,2])\n",
    "    i = 1\n",
    "    j = 2\n",
    "    for i in range(d):\n",
    "        for j in range(d):\n",
    "            if j <= i:\n",
    "                continue\n",
    "            if i==1 and j==2:\n",
    "                continue\n",
    "            b = np.matmul(b, RotationMatrix(i, j, d, theta[i,j]))\n",
    "            \n",
    "    return b\n",
    "\n",
    "\n",
    "def GrandTour(data, nSteps):\n",
    "    \"\"\"\n",
    "    Inputs:\n",
    "    data = array of data points, dimensions x npoints\n",
    "    Outputs a 3D array number of points x t x dimensions, where t\n",
    "    the time step at that point in the tour\n",
    "    \"\"\"\n",
    "\n",
    "    d = np.shape(data)[0] #dimensions of data\n",
    "    nPoints = np.shape(data)[1] #number of data points\n",
    "    tData = np.zeros((nSteps,d,nPoints)) #initialise 3d matrix to store stransforemd data at each timestep\n",
    "    tBeta = np.zeros((nSteps,d,d))\n",
    "    Alpha = getAlpha(d)\n",
    "\n",
    "    \n",
    "    for t in range(0, nSteps):\n",
    "        \n",
    "        \n",
    "        alpha = Alpha.dot(t)\n",
    "        theta = getAngles(alpha, d)\n",
    "        b = BetaFn(d, theta)\n",
    "        a = np.matmul(b, data)\n",
    "        tData[t,:,:] = a\n",
    "        tBeta[t,:,:] = b\n",
    "        \n",
    "    return tData\n"
   ]
  },
  {
   "cell_type": "code",
   "execution_count": 4,
   "metadata": {},
   "outputs": [],
   "source": [
    "def costfn(a):\n",
    "    xData = a[0]\n",
    "    yData = a[1]\n",
    "    nData = np.vstack((xData, yData)).T\n",
    "    clf = OneVsRestClassifier(SVC(kernel='linear'), n_jobs=-1)\n",
    "    clf.fit(nData, classification)\n",
    "    p = clf.decision_function(nData)\n",
    "    score = sklearn.metrics.hinge_loss(classification,p,labels)\n",
    "    return score\n"
   ]
  },
  {
   "cell_type": "code",
   "execution_count": 42,
   "metadata": {},
   "outputs": [],
   "source": [
    "def iterator(X, G, tau):\n",
    "    \"\"\"\n",
    "    Computes Y(tau) or X^{t+1} given X^t and G\n",
    "    \"\"\"\n",
    "    I = np.identity(np.shape(X)[0])\n",
    "    if np.shape(X)[1] > 0.5 * np.shape(X)[0]:\n",
    "        W = G * X.T - X * G.T\n",
    "        term = (I + (tau / 2) * W)\n",
    "        Y = term.I * term * X\n",
    "    else:\n",
    "        \n",
    "        U = np.concatenate((G, X), axis=1)\n",
    "        V = np.concatenate((X, -G), axis=1).T\n",
    "        Y = X - tau * U * (I + (tau / 2) * (V.T * U)).I * V.T * X\n",
    "    return Y\n",
    "\n",
    "def derivative(X, costfn, eps=0.0000001):\n",
    "    G = np.zeros((np.shape(X)[0], np.shape(X)[1]))\n",
    "    for i in range(np.shape(X)[0]):\n",
    "        for j in range(np.shape(X)[1]):\n",
    "            A = X\n",
    "            A[i, j] = X[i, j] + eps\n",
    "            G = (costfn(A) - costfn(X)) / eps\n",
    "    return G\n",
    "\n",
    "def hingeLoss(a):\n",
    "    xData = a[0]\n",
    "    yData = a[1]\n",
    "    nData = np.vstack((xData, yData)).T\n",
    "    clf = OneVsRestClassifier(SVC(kernel='linear'), n_jobs=-1)\n",
    "    clf.fit(nData, classification)\n",
    "    p = clf.decision_function(nData)\n",
    "    score = sklearn.metrics.hinge_loss(classification,p,labels)\n",
    "    return score\n",
    "\n"
   ]
  },
  {
   "cell_type": "code",
   "execution_count": 40,
   "metadata": {},
   "outputs": [],
   "source": [
    "xData = a[0]\n",
    "yData = a[1]\n",
    "nData = np.vstack((xData, yData)).T"
   ]
  },
  {
   "cell_type": "code",
   "execution_count": 41,
   "metadata": {},
   "outputs": [
    {
     "data": {
      "text/plain": [
       "(177, 2)"
      ]
     },
     "execution_count": 41,
     "metadata": {},
     "output_type": "execute_result"
    }
   ],
   "source": [
    "np.shape(nData)"
   ]
  },
  {
   "cell_type": "code",
   "execution_count": 13,
   "metadata": {},
   "outputs": [
    {
     "data": {
      "text/plain": [
       "(13, 177)"
      ]
     },
     "execution_count": 13,
     "metadata": {},
     "output_type": "execute_result"
    }
   ],
   "source": [
    "np.shape(a)"
   ]
  },
  {
   "cell_type": "code",
   "execution_count": 29,
   "metadata": {},
   "outputs": [
    {
     "data": {
      "text/plain": [
       "(177, 2)"
      ]
     },
     "execution_count": 29,
     "metadata": {},
     "output_type": "execute_result"
    }
   ],
   "source": [
    "p = 2\n",
    "b = a[:p,:]\n",
    "np.shape(b.T)"
   ]
  },
  {
   "cell_type": "code",
   "execution_count": 26,
   "metadata": {},
   "outputs": [],
   "source": [
    "xData = a[0]\n",
    "yData = a[1]\n",
    "nData = np.vstack((xData, yData)).T"
   ]
  },
  {
   "cell_type": "code",
   "execution_count": 27,
   "metadata": {},
   "outputs": [
    {
     "data": {
      "text/plain": [
       "(177, 2)"
      ]
     },
     "execution_count": 27,
     "metadata": {},
     "output_type": "execute_result"
    }
   ],
   "source": [
    "np.shape(nData)"
   ]
  },
  {
   "cell_type": "code",
   "execution_count": 30,
   "metadata": {},
   "outputs": [
    {
     "data": {
      "text/plain": [
       "(13, 177)"
      ]
     },
     "execution_count": 30,
     "metadata": {},
     "output_type": "execute_result"
    }
   ],
   "source": [
    "np.shape(data)"
   ]
  },
  {
   "cell_type": "code",
   "execution_count": null,
   "metadata": {},
   "outputs": [],
   "source": []
  }
 ],
 "metadata": {
  "kernelspec": {
   "display_name": "Python 3",
   "language": "python",
   "name": "python3"
  },
  "language_info": {
   "codemirror_mode": {
    "name": "ipython",
    "version": 3
   },
   "file_extension": ".py",
   "mimetype": "text/x-python",
   "name": "python",
   "nbconvert_exporter": "python",
   "pygments_lexer": "ipython3",
   "version": "3.7.1"
  }
 },
 "nbformat": 4,
 "nbformat_minor": 2
}
