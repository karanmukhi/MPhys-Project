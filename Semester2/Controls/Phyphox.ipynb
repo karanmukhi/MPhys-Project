{
 "cells": [
  {
   "cell_type": "code",
   "execution_count": 16,
   "metadata": {},
   "outputs": [
    {
     "name": "stdout",
     "output_type": "stream",
     "text": [
      "1.00000001083194760681152 -0.0020446777575\n"
     ]
    }
   ],
   "source": [
    "import requests\n",
    "import time\n",
    "import numpy as np\n",
    "PP_address = \"http://192.168.43.1:8080\"\n",
    "PP_channels = [\"gyrX\", \"gyrY\", \"gyrZ\"]\n",
    "url = PP_address + \"/get?\" + (\"&\".join(PP_channels))\n",
    "\n",
    "Vx = []\n",
    "Vy = []\n",
    "Vz = []\n",
    "start = time.time()\n",
    "for i in range(1000):\n",
    "    data = requests.get(url=url).json()\n",
    "    x = (data['buffer']['gyrX']['buffer'][0])\n",
    "    y = (data['buffer']['gyrY']['buffer'][0])\n",
    "    z = (data['buffer']['gyrZ']['buffer'][0])\n",
    "    print(x,y,z, end = \"\\r\")\n",
    "\n",
    "end = time.time()\n",
    "print (end/start)"
   ]
  }
 ],
 "metadata": {
  "kernelspec": {
   "display_name": "Python 3",
   "language": "python",
   "name": "python3"
  },
  "language_info": {
   "codemirror_mode": {
    "name": "ipython",
    "version": 3
   },
   "file_extension": ".py",
   "mimetype": "text/x-python",
   "name": "python",
   "nbconvert_exporter": "python",
   "pygments_lexer": "ipython3",
   "version": "3.7.1"
  }
 },
 "nbformat": 4,
 "nbformat_minor": 2
}
